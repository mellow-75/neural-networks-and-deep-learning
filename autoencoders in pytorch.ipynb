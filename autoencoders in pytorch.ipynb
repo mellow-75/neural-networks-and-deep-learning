{
 "cells": [
  {
   "cell_type": "code",
   "execution_count": 41,
   "id": "29845694",
   "metadata": {},
   "outputs": [],
   "source": [
    "import torch\n",
    "from torch import nn              \n",
    "from torchvision import datasets,transforms\n",
    "import matplotlib.pyplot as plt"
   ]
  },
  {
   "cell_type": "code",
   "execution_count": 42,
   "id": "75348d89",
   "metadata": {},
   "outputs": [],
   "source": [
    "transform=transforms.ToTensor()\n",
    "dataset=datasets.MNIST(root=\"./data\",train=True,download=True,transform=transform)\n",
    "\n",
    "trainloader=torch.utils.data.DataLoader(dataset=dataset,batch_size=64,shuffle=True)"
   ]
  },
  {
   "cell_type": "code",
   "execution_count": 103,
   "id": "95b59691",
   "metadata": {},
   "outputs": [],
   "source": [
    "recon=[]\n",
    "class Autoenc(nn.Module):\n",
    "    def __init__(self):\n",
    "        super().__init__()\n",
    "        \n",
    "        self.encoder = nn.Sequential(\n",
    "            \n",
    "            nn.Linear(28 * 28, 128),\n",
    "            nn.ReLU(),\n",
    "            nn.Linear(128, 64),\n",
    "            nn.ReLU(),\n",
    "            nn.Linear(64, 36),\n",
    "            nn.ReLU(),\n",
    "            nn.Linear(36, 18),\n",
    "            nn.ReLU(),\n",
    "            nn.Linear(18, 9)\n",
    "        )\n",
    "    \n",
    "    \n",
    "    \n",
    "        self.decoder = torch.nn.Sequential(\n",
    "            nn.Linear(9, 18),\n",
    "            nn.ReLU(),\n",
    "            nn.Linear(18, 36),\n",
    "            nn.ReLU(),\n",
    "            nn.Linear(36, 64),\n",
    "            nn.ReLU(),\n",
    "            nn.Linear(64, 128),\n",
    "            nn.ReLU(),\n",
    "            nn.Linear(128, 28 * 28),\n",
    "            nn.Sigmoid()\n",
    "        )\n",
    "    \n",
    "    \n",
    "    def forward(self,x):\n",
    "        encoded=self.encoder(x)\n",
    "        recon.append(encoded)\n",
    "        decoded=self.decoder(encoded)\n",
    "        return decoded\n",
    "    \n",
    "    \n",
    "    "
   ]
  },
  {
   "cell_type": "code",
   "execution_count": 104,
   "id": "224900d1",
   "metadata": {},
   "outputs": [],
   "source": [
    "model = Autoenc()\n",
    "\n",
    "loss_function = torch.nn.MSELoss()\n",
    "optimizer = torch.optim.Adam(model.parameters(), lr = 1e-1, weight_decay = 1e8)"
   ]
  },
  {
   "cell_type": "code",
   "execution_count": 105,
   "id": "09889b6c",
   "metadata": {},
   "outputs": [],
   "source": [
    "epochs = 10\n",
    "\n",
    "outputs = []\n",
    "losses = []\n",
    "for epoch in range(epochs):\n",
    "    for (image, _) in trainloader:\n",
    "        image = image.reshape(-1, 28*28)\n",
    "\n",
    "        reconstructed = model(image)\n",
    "        loss = loss_function(reconstructed, image)\n",
    "\n",
    "        optimizer.zero_grad()\n",
    "        loss.backward()\n",
    "        optimizer.step()\n",
    "\n",
    "        losses.append(loss)\n",
    "    \n",
    "    outputs.append((epochs, image, reconstructed))\n"
   ]
  },
  {
   "cell_type": "code",
   "execution_count": 119,
   "id": "2fccbaed",
   "metadata": {},
   "outputs": [],
   "source": [
    "a=recon[0]\n",
    "a=np.array([t.detach().numpy() for t in a])"
   ]
  },
  {
   "cell_type": "code",
   "execution_count": null,
   "id": "79856679",
   "metadata": {},
   "outputs": [],
   "source": []
  },
  {
   "cell_type": "code",
   "execution_count": 127,
   "id": "7c734d61",
   "metadata": {},
   "outputs": [],
   "source": [
    "import numpy as np"
   ]
  },
  {
   "cell_type": "code",
   "execution_count": 128,
   "id": "345f68e6",
   "metadata": {},
   "outputs": [
    {
     "data": {
      "image/png": "[encoded data removed]",
      "text/plain": [
       "<Figure size 640x480 with 1 Axes>"
      ]
     },
     "metadata": {},
     "output_type": "display_data"
    }
   ],
   "source": [
    "for i, item in enumerate(image):\n",
    "\n",
    "    item = item.reshape(-1, 28, 28)\n",
    "    plt.imshow(item[0])\n"
   ]
  },
  {
   "cell_type": "code",
   "execution_count": 129,
   "id": "58383a1a",
   "metadata": {},
   "outputs": [
    {
     "data": {
      "image/png": "[encoded data removed]",
      "text/plain": [
       "<Figure size 640x480 with 1 Axes>"
      ]
     },
     "metadata": {},
     "output_type": "display_data"
    }
   ],
   "source": [
    "for i, item in enumerate(reconstructed):\n",
    "    item = item.reshape(-1, 28, 28)\n",
    "    item_new = item.clone().detach()\n",
    "    plt.imshow(item_new[0])"
   ]
  },
  {
   "cell_type": "code",
   "execution_count": null,
   "id": "71195b3f",
   "metadata": {},
   "outputs": [],
   "source": []
  },
  {
   "cell_type": "code",
   "execution_count": null,
   "id": "1f62f59e",
   "metadata": {},
   "outputs": [],
   "source": []
  }
 ],
 "metadata": {
  "kernelspec": {
   "display_name": "Python 3 (ipykernel)",
   "language": "python",
   "name": "python3"
  },
  "language_info": {
   "codemirror_mode": {
    "name": "ipython",
    "version": 3
   },
   "file_extension": ".py",
   "mimetype": "text/x-python",
   "name": "python",
   "nbconvert_exporter": "python",
   "pygments_lexer": "ipython3",
   "version": "3.10.9"
  }
 },
 "nbformat": 4,
 "nbformat_minor": 5
}
